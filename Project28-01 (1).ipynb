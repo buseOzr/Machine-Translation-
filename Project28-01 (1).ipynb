{
 "cells": [
  {
   "cell_type": "code",
   "execution_count": 45,
   "metadata": {},
   "outputs": [],
   "source": [
    "import pandas as pd\n",
    "import string\n",
    "import re\n",
    "from pickle import dump\n",
    "from pickle import load\n",
    "from unicodedata import normalize\n",
    "from numpy import array\n",
    "from numpy import argmax\n",
    "from keras.preprocessing.text import Tokenizer\n",
    "from keras.preprocessing.sequence import pad_sequences\n",
    "from keras.models import load_model\n",
    "from keras.utils import to_categorical\n",
    "from keras.models import Sequential\n",
    "from keras.regularizers import L1L2\n",
    "from keras.layers import LSTM\n",
    "from keras.layers import Dense\n",
    "from keras.layers import Dropout\n",
    "from keras import regularizers\n",
    "\n",
    "from keras.layers import Embedding\n",
    "from keras.layers import RepeatVector\n",
    "from keras.layers import TimeDistributed\n",
    "from keras.layers import Bidirectional\n",
    "from keras.callbacks import ModelCheckpoint\n",
    "from sklearn.utils import shuffle\n",
    "from nltk.translate.bleu_score import corpus_bleu"
   ]
  },
  {
   "cell_type": "code",
   "execution_count": 61,
   "metadata": {
    "scrolled": true
   },
   "outputs": [
    {
     "name": "stdout",
     "output_type": "stream",
     "text": [
      "<class 'pandas.core.frame.DataFrame'>\n",
      "RangeIndex: 170651 entries, 0 to 170650\n",
      "Data columns (total 2 columns):\n",
      "en    170651 non-null object\n",
      "fr    170651 non-null object\n",
      "dtypes: object(2)\n",
      "memory usage: 2.6+ MB\n",
      "None\n"
     ]
    },
    {
     "data": {
      "text/html": [
       "<div>\n",
       "<style scoped>\n",
       "    .dataframe tbody tr th:only-of-type {\n",
       "        vertical-align: middle;\n",
       "    }\n",
       "\n",
       "    .dataframe tbody tr th {\n",
       "        vertical-align: top;\n",
       "    }\n",
       "\n",
       "    .dataframe thead th {\n",
       "        text-align: right;\n",
       "    }\n",
       "</style>\n",
       "<table border=\"1\" class=\"dataframe\">\n",
       "  <thead>\n",
       "    <tr style=\"text-align: right;\">\n",
       "      <th></th>\n",
       "      <th>en</th>\n",
       "      <th>fr</th>\n",
       "    </tr>\n",
       "  </thead>\n",
       "  <tbody>\n",
       "    <tr>\n",
       "      <th>0</th>\n",
       "      <td>Go.</td>\n",
       "      <td>Va !</td>\n",
       "    </tr>\n",
       "    <tr>\n",
       "      <th>1</th>\n",
       "      <td>Hi.</td>\n",
       "      <td>Salut !</td>\n",
       "    </tr>\n",
       "    <tr>\n",
       "      <th>2</th>\n",
       "      <td>Hi.</td>\n",
       "      <td>Salut.</td>\n",
       "    </tr>\n",
       "    <tr>\n",
       "      <th>3</th>\n",
       "      <td>Run!</td>\n",
       "      <td>Cours !</td>\n",
       "    </tr>\n",
       "    <tr>\n",
       "      <th>4</th>\n",
       "      <td>Run!</td>\n",
       "      <td>Courez !</td>\n",
       "    </tr>\n",
       "    <tr>\n",
       "      <th>5</th>\n",
       "      <td>Who?</td>\n",
       "      <td>Qui ?</td>\n",
       "    </tr>\n",
       "    <tr>\n",
       "      <th>6</th>\n",
       "      <td>Wow!</td>\n",
       "      <td>Ça alors !</td>\n",
       "    </tr>\n",
       "    <tr>\n",
       "      <th>7</th>\n",
       "      <td>Fire!</td>\n",
       "      <td>Au feu !</td>\n",
       "    </tr>\n",
       "    <tr>\n",
       "      <th>8</th>\n",
       "      <td>Help!</td>\n",
       "      <td>À l'aide !</td>\n",
       "    </tr>\n",
       "    <tr>\n",
       "      <th>9</th>\n",
       "      <td>Jump.</td>\n",
       "      <td>Saute.</td>\n",
       "    </tr>\n",
       "    <tr>\n",
       "      <th>10</th>\n",
       "      <td>Stop!</td>\n",
       "      <td>Ça suffit !</td>\n",
       "    </tr>\n",
       "    <tr>\n",
       "      <th>11</th>\n",
       "      <td>Stop!</td>\n",
       "      <td>Stop !</td>\n",
       "    </tr>\n",
       "    <tr>\n",
       "      <th>12</th>\n",
       "      <td>Stop!</td>\n",
       "      <td>Arrête-toi !</td>\n",
       "    </tr>\n",
       "    <tr>\n",
       "      <th>13</th>\n",
       "      <td>Wait!</td>\n",
       "      <td>Attends !</td>\n",
       "    </tr>\n",
       "    <tr>\n",
       "      <th>14</th>\n",
       "      <td>Wait!</td>\n",
       "      <td>Attendez !</td>\n",
       "    </tr>\n",
       "    <tr>\n",
       "      <th>15</th>\n",
       "      <td>Go on.</td>\n",
       "      <td>Poursuis.</td>\n",
       "    </tr>\n",
       "    <tr>\n",
       "      <th>16</th>\n",
       "      <td>Go on.</td>\n",
       "      <td>Continuez.</td>\n",
       "    </tr>\n",
       "    <tr>\n",
       "      <th>17</th>\n",
       "      <td>Go on.</td>\n",
       "      <td>Poursuivez.</td>\n",
       "    </tr>\n",
       "    <tr>\n",
       "      <th>18</th>\n",
       "      <td>Hello!</td>\n",
       "      <td>Bonjour !</td>\n",
       "    </tr>\n",
       "    <tr>\n",
       "      <th>19</th>\n",
       "      <td>Hello!</td>\n",
       "      <td>Salut !</td>\n",
       "    </tr>\n",
       "  </tbody>\n",
       "</table>\n",
       "</div>"
      ],
      "text/plain": [
       "        en            fr\n",
       "0      Go.          Va !\n",
       "1      Hi.       Salut !\n",
       "2      Hi.        Salut.\n",
       "3     Run!       Cours !\n",
       "4     Run!      Courez !\n",
       "5     Who?         Qui ?\n",
       "6     Wow!    Ça alors !\n",
       "7    Fire!      Au feu !\n",
       "8    Help!    À l'aide !\n",
       "9    Jump.        Saute.\n",
       "10   Stop!   Ça suffit !\n",
       "11   Stop!        Stop !\n",
       "12   Stop!  Arrête-toi !\n",
       "13   Wait!     Attends !\n",
       "14   Wait!    Attendez !\n",
       "15  Go on.     Poursuis.\n",
       "16  Go on.    Continuez.\n",
       "17  Go on.   Poursuivez.\n",
       "18  Hello!     Bonjour !\n",
       "19  Hello!       Salut !"
      ]
     },
     "execution_count": 61,
     "metadata": {},
     "output_type": "execute_result"
    }
   ],
   "source": [
    "# reading the data\n",
    "df = pd.read_csv('fra.txt',sep='\\t', header = None, encoding = 'utf-8')\n",
    "df.drop(2, axis = 1, inplace=True)\n",
    "df.columns=['en', 'fr']\n",
    "print(df.info())\n",
    "df.head(20)"
   ]
  },
  {
   "cell_type": "code",
   "execution_count": 62,
   "metadata": {},
   "outputs": [],
   "source": [
    "# cleaning the data\n",
    "def clean_data(phrase):\n",
    "    punct_to_remove = str.maketrans('', '', string.punctuation)\n",
    "    re_print = re.compile('[^%s]' % re.escape(string.printable))\n",
    "    \n",
    "    # removes non-ascii chars, lowercases the words, removes punctuation, removes non-printable chars, \n",
    "    # removes tokens that contain numbers\n",
    "    phrase = normalize('NFD', phrase).encode('ascii', 'ignore')\n",
    "    phrase = phrase.decode('UTF-8')\n",
    "    phrase = phrase.split()\n",
    "    phrase = [w.lower() for w in phrase]\n",
    "    phrase = [w.translate(punct_to_remove) for w in phrase]\n",
    "    phrase = [re_print.sub('', w) for w in phrase]\n",
    "    phrase = [w for w in phrase if w.isalpha()]\n",
    "    \n",
    "    clean_phrase = ' '.join(phrase)\n",
    "    return clean_phrase\n",
    "    \n",
    "def clean_df(df):\n",
    "    df['en'] = df['en'].apply(clean_data)\n",
    "    df['fr'] = df['fr'].apply(clean_data)\n",
    "    return df"
   ]
  },
  {
   "cell_type": "code",
   "execution_count": 63,
   "metadata": {},
   "outputs": [
    {
     "data": {
      "text/html": [
       "<div>\n",
       "<style scoped>\n",
       "    .dataframe tbody tr th:only-of-type {\n",
       "        vertical-align: middle;\n",
       "    }\n",
       "\n",
       "    .dataframe tbody tr th {\n",
       "        vertical-align: top;\n",
       "    }\n",
       "\n",
       "    .dataframe thead th {\n",
       "        text-align: right;\n",
       "    }\n",
       "</style>\n",
       "<table border=\"1\" class=\"dataframe\">\n",
       "  <thead>\n",
       "    <tr style=\"text-align: right;\">\n",
       "      <th></th>\n",
       "      <th>en</th>\n",
       "      <th>fr</th>\n",
       "    </tr>\n",
       "  </thead>\n",
       "  <tbody>\n",
       "    <tr>\n",
       "      <th>0</th>\n",
       "      <td>go</td>\n",
       "      <td>va</td>\n",
       "    </tr>\n",
       "    <tr>\n",
       "      <th>1</th>\n",
       "      <td>hi</td>\n",
       "      <td>salut</td>\n",
       "    </tr>\n",
       "    <tr>\n",
       "      <th>2</th>\n",
       "      <td>hi</td>\n",
       "      <td>salut</td>\n",
       "    </tr>\n",
       "    <tr>\n",
       "      <th>3</th>\n",
       "      <td>run</td>\n",
       "      <td>cours</td>\n",
       "    </tr>\n",
       "    <tr>\n",
       "      <th>4</th>\n",
       "      <td>run</td>\n",
       "      <td>courez</td>\n",
       "    </tr>\n",
       "  </tbody>\n",
       "</table>\n",
       "</div>"
      ],
      "text/plain": [
       "    en      fr\n",
       "0   go      va\n",
       "1   hi   salut\n",
       "2   hi   salut\n",
       "3  run   cours\n",
       "4  run  courez"
      ]
     },
     "execution_count": 63,
     "metadata": {},
     "output_type": "execute_result"
    }
   ],
   "source": [
    "df = clean_df(df)\n",
    "df.to_csv('clean_data_en_fr.csv', index = None)\n",
    "df.head()"
   ]
  },
  {
   "cell_type": "code",
   "execution_count": 133,
   "metadata": {},
   "outputs": [
    {
     "data": {
      "text/plain": [
       "170651"
      ]
     },
     "execution_count": 133,
     "metadata": {},
     "output_type": "execute_result"
    }
   ],
   "source": [
    "# reading in the clean data and splitting into train and test\n",
    "df = pd.read_csv('clean_data_en_fr.csv')\n"
   ]
  },
  {
   "cell_type": "code",
   "execution_count": 64,
   "metadata": {},
   "outputs": [
    {
     "data": {
      "text/plain": [
       "2000"
      ]
     },
     "execution_count": 64,
     "metadata": {},
     "output_type": "execute_result"
    }
   ],
   "source": [
    "df = df[0:20000]\n",
    "df = shuffle(df)\n",
    "train_df = df[0:18000]\n",
    "test_df = df[18000:20000]\n",
    "len(test_df)\n"
   ]
  },
  {
   "cell_type": "code",
   "execution_count": 65,
   "metadata": {},
   "outputs": [
    {
     "name": "stdout",
     "output_type": "stream",
     "text": [
      "English vocab size: 3478\n",
      "English max phrase length: 5\n",
      "French vocab size: 6931\n",
      "French max phrase length: 12\n"
     ]
    }
   ],
   "source": [
    "# encode sequences with integers and pad with zeros\n",
    "def encode_phrases(tknzr, max_length, phrases):\n",
    "    seq = tknzr.texts_to_sequences(phrases)\n",
    "    seq = pad_sequences(seq, maxlen=max_length, padding='post')\n",
    "    return seq\n",
    "\n",
    "# one hot encoding of the target translation\n",
    "def onehot_output(seqs, vocab_size):\n",
    "    seqs_onehot = list()\n",
    "    for seq in seqs:\n",
    "        \n",
    "        # one hot encodes the words in a phrase\n",
    "        seq_onehot = to_categorical(seq, num_classes=vocab_size)\n",
    "        seqs_onehot.append(seq_onehot)\n",
    "        \n",
    "    # CHECK IF THESE 2 ARE NECESSARY\n",
    "    y = array(seqs_onehot)\n",
    "    y = y.reshape(seqs.shape[0], seqs.shape[1], vocab_size)\n",
    "    return y\n",
    "\n",
    "\n",
    "# tokenizers\n",
    "en_tokenizer = Tokenizer()\n",
    "en_tokenizer.fit_on_texts(df['en'])\n",
    "\n",
    "fr_tokenizer = Tokenizer()\n",
    "fr_tokenizer.fit_on_texts(df['fr'])\n",
    "\n",
    "# max length\n",
    "en_max_length = max([len(phrase) for phrase in df['en'].str.split()])\n",
    "fr_max_length = max([len(phrase) for phrase in df['fr'].str.split()])\n",
    "\n",
    "#word_index\n",
    "word_index=fr_tokenizer.word_index\n",
    "\n",
    "# vocabulary size\n",
    "en_vocab_size = len(en_tokenizer.word_index) + 1\n",
    "fr_vocab_size = len(fr_tokenizer.word_index) + 1\n",
    "\n",
    "print('English vocab size: ' + str(en_vocab_size))\n",
    "print('English max phrase length: ' + str(en_max_length))\n",
    "print('French vocab size: ' + str(fr_vocab_size))\n",
    "print('French max phrase length: ' + str(fr_max_length))\n",
    "\n"
   ]
  },
  {
   "cell_type": "markdown",
   "metadata": {},
   "source": [
    "## Word2Vec Model"
   ]
  },
  {
   "cell_type": "code",
   "execution_count": 3,
   "metadata": {},
   "outputs": [],
   "source": [
    "import os\n",
    "import gensim\n",
    "import warnings\n"
   ]
  },
  {
   "cell_type": "code",
   "execution_count": 139,
   "metadata": {},
   "outputs": [
    {
     "name": "stdout",
     "output_type": "stream",
     "text": [
      "['inc', 'aurant la therapie et au niveau sexuel']\n"
     ]
    }
   ],
   "source": [
    "with open(\"data.txt\",encoding = 'utf-8') as file:\n",
    "    lines = [clean_data(line.rstrip('\\n')) for line in file]\n",
    "    "
   ]
  },
  {
   "cell_type": "code",
   "execution_count": 140,
   "metadata": {
    "scrolled": true
   },
   "outputs": [
    {
     "data": {
      "text/plain": [
       "[['inc'],\n",
       " ['aurant', 'la', 'therapie', 'et', 'au', 'niveau', 'sexuel'],\n",
       " ['pas', 'encore']]"
      ]
     },
     "execution_count": 140,
     "metadata": {},
     "output_type": "execute_result"
    }
   ],
   "source": [
    "def convert(lst): \n",
    "    return ([item for item in lst.split(\" \")]) \n",
    "      \n",
    "# Driver code \n",
    "all_sentences=[convert(phrase) for phrase in lines]\n"
   ]
  },
  {
   "cell_type": "code",
   "execution_count": 141,
   "metadata": {},
   "outputs": [],
   "source": [
    "import gensim\n",
    "\n",
    "model_w2v = gensim.models.Word2Vec(sentences=all_sentences, size=300, sg=1, hs=1)\n",
    "if not os.path.exists('./WE_models'):\n",
    "    os.mkdir('./WE_models')\n",
    "model_w2v.save('WE_models/w2v_sg_300D')"
   ]
  },
  {
   "cell_type": "code",
   "execution_count": 35,
   "metadata": {},
   "outputs": [],
   "source": [
    "#Load Word2VecModel\n",
    "model_w2v = gensim.models.Word2Vec.load('WE_models/w2v_sg_300D')\n"
   ]
  },
  {
   "cell_type": "code",
   "execution_count": 24,
   "metadata": {},
   "outputs": [
    {
     "name": "stdout",
     "output_type": "stream",
     "text": [
      "['la', 'therapie', 'et', 'au', 'niveau', 'sexuel', 'pas', 'encore', 'il', 'veut']\n"
     ]
    }
   ],
   "source": [
    "words = list(model_w2v.wv.vocab)\n",
    "pretrained_weights=model_w2v.wv.syn0\n",
    "vocab_size, emdedding_size = pretrained_weights.shape\n",
    "vocab_size, emdedding_size"
   ]
  },
  {
   "cell_type": "code",
   "execution_count": 25,
   "metadata": {},
   "outputs": [
    {
     "data": {
      "text/plain": [
       "[('turbulences', 0.4291991591453552),\n",
       " ('dintro', 0.42504751682281494),\n",
       " ('modifications', 0.41741570830345154),\n",
       " ('repetitions', 0.41544803977012634),\n",
       " ('visites', 0.41166946291923523),\n",
       " ('semestre', 0.4116436243057251),\n",
       " ('lindependance', 0.39758729934692383),\n",
       " ('retouches', 0.39716506004333496),\n",
       " ('phases', 0.3952268660068512),\n",
       " ('usines', 0.39489084482192993)]"
      ]
     },
     "execution_count": 25,
     "metadata": {},
     "output_type": "execute_result"
    }
   ],
   "source": [
    "#Load the model\n",
    "model_w2v = gensim.models.Word2Vec.load('WE_models/w2v_sg_300D')\n",
    "#See the most similar words to cours\n",
    "model_w2v.wv.most_similar('cours')\n"
   ]
  },
  {
   "cell_type": "code",
   "execution_count": 66,
   "metadata": {},
   "outputs": [
    {
     "name": "stdout",
     "output_type": "stream",
     "text": [
      "Model: \"sequential_4\"\n",
      "_________________________________________________________________\n",
      "Layer (type)                 Output Shape              Param #   \n",
      "=================================================================\n",
      "embedding_4 (Embedding)      (None, 12, 300)           2750700   \n",
      "_________________________________________________________________\n",
      "lstm_7 (LSTM)                (None, 256)               570368    \n",
      "_________________________________________________________________\n",
      "repeat_vector_4 (RepeatVecto (None, 5, 256)            0         \n",
      "_________________________________________________________________\n",
      "lstm_8 (LSTM)                (None, 5, 256)            525312    \n",
      "_________________________________________________________________\n",
      "time_distributed_4 (TimeDist (None, 5, 3478)           893846    \n",
      "=================================================================\n",
      "Total params: 4,740,226\n",
      "Trainable params: 1,989,526\n",
      "Non-trainable params: 2,750,700\n",
      "_________________________________________________________________\n",
      "None\n",
      "Train on 18000 samples, validate on 2000 samples\n",
      "Epoch 1/30\n",
      " - 49s - loss: 4.2893 - val_loss: 3.8935\n",
      "\n",
      "Epoch 00001: val_loss improved from inf to 3.89346, saving model to model30.h5\n",
      "Epoch 2/30\n",
      " - 41s - loss: 3.7743 - val_loss: 3.7538\n",
      "\n",
      "Epoch 00002: val_loss improved from 3.89346 to 3.75376, saving model to model30.h5\n",
      "Epoch 3/30\n",
      " - 42s - loss: 3.5641 - val_loss: 3.4684\n",
      "\n",
      "Epoch 00003: val_loss improved from 3.75376 to 3.46842, saving model to model30.h5\n",
      "Epoch 4/30\n",
      " - 46s - loss: 3.2608 - val_loss: 3.2016\n",
      "\n",
      "Epoch 00004: val_loss improved from 3.46842 to 3.20159, saving model to model30.h5\n",
      "Epoch 5/30\n",
      " - 45s - loss: 2.9993 - val_loss: 2.9864\n",
      "\n",
      "Epoch 00005: val_loss improved from 3.20159 to 2.98639, saving model to model30.h5\n",
      "Epoch 6/30\n",
      " - 43s - loss: 2.7568 - val_loss: 2.8144\n",
      "\n",
      "Epoch 00006: val_loss improved from 2.98639 to 2.81443, saving model to model30.h5\n",
      "Epoch 7/30\n",
      " - 44s - loss: 2.5391 - val_loss: 2.6527\n",
      "\n",
      "Epoch 00007: val_loss improved from 2.81443 to 2.65269, saving model to model30.h5\n",
      "Epoch 8/30\n",
      " - 45s - loss: 2.3497 - val_loss: 2.5348\n",
      "\n",
      "Epoch 00008: val_loss improved from 2.65269 to 2.53475, saving model to model30.h5\n",
      "Epoch 9/30\n",
      " - 44s - loss: 2.1855 - val_loss: 2.4303\n",
      "\n",
      "Epoch 00009: val_loss improved from 2.53475 to 2.43028, saving model to model30.h5\n",
      "Epoch 10/30\n",
      " - 43s - loss: 2.0361 - val_loss: 2.3488\n",
      "\n",
      "Epoch 00010: val_loss improved from 2.43028 to 2.34882, saving model to model30.h5\n",
      "Epoch 11/30\n",
      " - 45s - loss: 1.8970 - val_loss: 2.2814\n",
      "\n",
      "Epoch 00011: val_loss improved from 2.34882 to 2.28137, saving model to model30.h5\n",
      "Epoch 12/30\n",
      " - 48s - loss: 1.7647 - val_loss: 2.2099\n",
      "\n",
      "Epoch 00012: val_loss improved from 2.28137 to 2.20987, saving model to model30.h5\n",
      "Epoch 13/30\n",
      " - 49s - loss: 1.6393 - val_loss: 2.1617\n",
      "\n",
      "Epoch 00013: val_loss improved from 2.20987 to 2.16165, saving model to model30.h5\n",
      "Epoch 14/30\n",
      " - 45s - loss: 1.5237 - val_loss: 2.1262\n",
      "\n",
      "Epoch 00014: val_loss improved from 2.16165 to 2.12617, saving model to model30.h5\n",
      "Epoch 15/30\n",
      " - 44s - loss: 1.4089 - val_loss: 2.0723\n",
      "\n",
      "Epoch 00015: val_loss improved from 2.12617 to 2.07228, saving model to model30.h5\n",
      "Epoch 16/30\n",
      " - 45s - loss: 1.3033 - val_loss: 2.0343\n",
      "\n",
      "Epoch 00016: val_loss improved from 2.07228 to 2.03434, saving model to model30.h5\n",
      "Epoch 17/30\n",
      " - 46s - loss: 1.1995 - val_loss: 2.0031\n",
      "\n",
      "Epoch 00017: val_loss improved from 2.03434 to 2.00314, saving model to model30.h5\n",
      "Epoch 18/30\n",
      " - 45s - loss: 1.1062 - val_loss: 1.9853\n",
      "\n",
      "Epoch 00018: val_loss improved from 2.00314 to 1.98530, saving model to model30.h5\n",
      "Epoch 19/30\n",
      " - 44s - loss: 1.0137 - val_loss: 1.9517\n",
      "\n",
      "Epoch 00019: val_loss improved from 1.98530 to 1.95173, saving model to model30.h5\n",
      "Epoch 20/30\n",
      " - 46s - loss: 0.9295 - val_loss: 1.9535\n",
      "\n",
      "Epoch 00020: val_loss did not improve from 1.95173\n",
      "Epoch 21/30\n",
      " - 47s - loss: 0.8495 - val_loss: 1.9358\n",
      "\n",
      "Epoch 00021: val_loss improved from 1.95173 to 1.93579, saving model to model30.h5\n",
      "Epoch 22/30\n",
      " - 55s - loss: 0.7771 - val_loss: 1.9196\n",
      "\n",
      "Epoch 00022: val_loss improved from 1.93579 to 1.91956, saving model to model30.h5\n",
      "Epoch 23/30\n",
      " - 46s - loss: 0.7085 - val_loss: 1.9010\n",
      "\n",
      "Epoch 00023: val_loss improved from 1.91956 to 1.90100, saving model to model30.h5\n",
      "Epoch 24/30\n",
      " - 48s - loss: 0.6465 - val_loss: 1.9033\n",
      "\n",
      "Epoch 00024: val_loss did not improve from 1.90100\n",
      "Epoch 25/30\n",
      " - 53s - loss: 0.5909 - val_loss: 1.9047\n",
      "\n",
      "Epoch 00025: val_loss did not improve from 1.90100\n",
      "Epoch 26/30\n",
      " - 55s - loss: 0.5414 - val_loss: 1.8986\n",
      "\n",
      "Epoch 00026: val_loss improved from 1.90100 to 1.89859, saving model to model30.h5\n",
      "Epoch 27/30\n",
      " - 55s - loss: 0.4940 - val_loss: 1.9156\n",
      "\n",
      "Epoch 00027: val_loss did not improve from 1.89859\n",
      "Epoch 28/30\n",
      " - 47s - loss: 0.4518 - val_loss: 1.9134\n",
      "\n",
      "Epoch 00028: val_loss did not improve from 1.89859\n",
      "Epoch 29/30\n",
      " - 50s - loss: 0.4137 - val_loss: 1.9232\n",
      "\n",
      "Epoch 00029: val_loss did not improve from 1.89859\n",
      "Epoch 30/30\n",
      " - 56s - loss: 0.3804 - val_loss: 1.9407\n",
      "\n",
      "Epoch 00030: val_loss did not improve from 1.89859\n"
     ]
    }
   ],
   "source": [
    "#pretrained wordembeddings\n",
    "\n",
    "def create_model(vocab_size_src, embedding_size, vocab_size_trg, seq_size_src, seq_size_trg, n_nodes):\n",
    "    nn = Sequential()\n",
    "    nn.add(Embedding(input_dim=vocab_size_src, output_dim=embedding_size,weights=[pretrained_weights],input_length=seq_size_src, mask_zero=True,trainable=False))\n",
    "    #nn.add(LSTM(n_nodes,bias_regularizer=L1L2(l1=0.02, l2=0.02)))\n",
    "    nn.add(LSTM(n_nodes))\n",
    "\n",
    "    #nn.add(Dropout(0.2))\n",
    "    nn.add(RepeatVector(seq_size_trg))\n",
    "    nn.add(LSTM(n_nodes, return_sequences=True))\n",
    "\n",
    "    #nn.add(LSTM(n_nodes, return_sequences=True,bias_regularizer=L1L2(l1=0.02, l2=0.02)))\n",
    "    #nn.add(Dropout(0.2))\n",
    "    nn.add(TimeDistributed(Dense(vocab_size_trg, activation='softmax')))\n",
    "    return nn\n",
    "\n",
    "# prepare training data\n",
    "train_src = encode_phrases(fr_tokenizer, fr_max_length, train_df['fr'])\n",
    "train_trg = encode_phrases(en_tokenizer, en_max_length, train_df['en'])\n",
    "train_trg = onehot_output(train_trg, en_vocab_size)\n",
    "\n",
    "# prepare validation data\n",
    "test_src = encode_phrases(fr_tokenizer, fr_max_length, test_df['fr'])\n",
    "test_trg = encode_phrases(en_tokenizer, en_max_length, test_df['en'])\n",
    "test_trg = onehot_output(test_trg, en_vocab_size)\n",
    "\n",
    "# create model\n",
    "model = create_model(vocab_size, emdedding_size , en_vocab_size, fr_max_length, en_max_length, 256)\n",
    "model.compile(optimizer='adam', loss='categorical_crossentropy')#, metrics = ['accuracy'])\n",
    "\n",
    "# summary of the model\n",
    "print(model.summary())\n",
    "\n",
    "saved_file_name = 'model30.h5'\n",
    "checkpoint = ModelCheckpoint(saved_file_name, monitor='val_loss', verbose=1, save_best_only=True, mode='min')\n",
    "history=model.fit(train_src, train_trg, epochs=30, batch_size=64, validation_data=(test_src, test_trg), callbacks=[checkpoint], verbose=2)"
   ]
  },
  {
   "cell_type": "code",
   "execution_count": 58,
   "metadata": {},
   "outputs": [],
   "source": [
    "# map an integer to a word\n",
    "def get_words(indexes, trg_tokenizer):\n",
    "    translation = []\n",
    "    for index in indexes:\n",
    "        for w, i in trg_tokenizer.word_index.items():\n",
    "            if i == index:\n",
    "                translation.append(w)\n",
    "                break\n",
    "    return translation\n",
    "\n",
    "# generate target given source sequence\n",
    "def translate_phrase(model, trg_tokenizer, src_phrase):\n",
    "    translation_probs = model.predict(src_phrase, verbose=0)[0]\n",
    "    indexes = []\n",
    "    for v in translation_probs:\n",
    "        indexes.append(argmax(v))\n",
    "    translation = get_words(indexes, trg_tokenizer)\n",
    "    return ' '.join(translation)\n",
    "\n"
   ]
  },
  {
   "cell_type": "code",
   "execution_count": 67,
   "metadata": {},
   "outputs": [
    {
     "data": {
      "image/png": "[encoded data removed]",
      "text/plain": [
       "<Figure size 432x288 with 1 Axes>"
      ]
     },
     "metadata": {
      "needs_background": "light"
     },
     "output_type": "display_data"
    }
   ],
   "source": [
    "import matplotlib.pyplot as pyplot\n",
    "pyplot.plot(history.history['loss'])\n",
    "pyplot.plot(history.history['val_loss'])\n",
    "pyplot.title('model train vs validation loss')\n",
    "pyplot.ylabel('loss')\n",
    "pyplot.xlabel('epoch')\n",
    "pyplot.legend(['train', 'validation'], loc='upper right')\n",
    "pyplot.show()"
   ]
  },
  {
   "cell_type": "code",
   "execution_count": 68,
   "metadata": {},
   "outputs": [
    {
     "name": "stdout",
     "output_type": "stream",
     "text": [
      "train\n",
      "source = attache tes lacets, target = tie your shoes, predicted = tie your shoes\n",
      "source = je paie mes propres dettes, target = i pay my own way, predicted = i pay my own\n",
      "source = je suis tres serieuse, target = im quite serious, predicted = im very fat\n",
      "source = les mecs sont stupides, target = guys are stupid, predicted = guys are stupid\n",
      "source = il lui faut trouver du travail, target = he must find work, predicted = he must find work\n",
      "BLEU-1: 0.84575\n",
      "BLEU-2: 0.79374\n",
      "BLEU-3: 0.73963\n",
      "BLEU-4: 0.53475\n",
      "test\n",
      "source = jai besoin de volontaires, target = i need volunteers, predicted = i need to\n",
      "source = tiens ta langue, target = bite your tongue, predicted = drink your\n",
      "source = estu mannequin, target = are you a model, predicted = are you relaxed\n",
      "source = tu ne peux pas sortir, target = you cant go out, predicted = you cant go\n",
      "source = depechezvous sil vous plait, target = please hurry, predicted = please call me\n",
      "BLEU-1: 0.55074\n",
      "BLEU-2: 0.42896\n",
      "BLEU-3: 0.36431\n",
      "BLEU-4: 0.20585\n"
     ]
    }
   ],
   "source": [
    "# french to english\n",
    "\n",
    "def evaluate_model(model, trg_tokenizer, src_phrases, original_data):\n",
    "    original_translations = []\n",
    "    predicted_translations = []\n",
    "    for i, phrase in enumerate(src_phrases):\n",
    "        # translate encoded source text\n",
    "        phrase = phrase.reshape((1, phrase.shape[0])) # need to check if necessary\n",
    "        translation = translate_phrase(model, trg_tokenizer, phrase)\n",
    "        original_trg, original_src = original_data.iloc[i]\n",
    "        # can remove the printing part here\n",
    "        if i < 5:\n",
    "            print('source = {}, target = {}, predicted = {}'.format(original_src, original_trg, translation))\n",
    "        original_translations.append([original_trg.split()])\n",
    "        predicted_translations.append(translation.split())\n",
    "    # BLEU score evaluation\n",
    "    print('BLEU-1: {0:.5f}'.format(corpus_bleu(original_translations, predicted_translations, weights=(1.0, 0, 0, 0))))\n",
    "    print('BLEU-2: {0:.5f}'.format(corpus_bleu(original_translations, predicted_translations, weights=(0.5, 0.5, 0, 0))))\n",
    "    print('BLEU-3: {0:.5f}'.format(corpus_bleu(original_translations, predicted_translations, weights=(0.3, 0.3, 0.3, 0))))\n",
    "    print('BLEU-4: {0:.5f}'.format(corpus_bleu(original_translations, predicted_translations, weights=(0.25, 0.25, 0.25, 0.25))))\n",
    "\n",
    "\n",
    "# load model\n",
    "model = load_model('model30.h5')\n",
    "\n",
    "# evaluation of training results\n",
    "print('train')\n",
    "evaluate_model(model, en_tokenizer, train_src, train_df)\n",
    "\n",
    "# evaluation of test results\n",
    "print('test')\n",
    "evaluate_model(model, en_tokenizer, test_src, test_df)"
   ]
  },
  {
   "cell_type": "code",
   "execution_count": null,
   "metadata": {},
   "outputs": [],
   "source": []
  }
 ],
 "metadata": {
  "kernelspec": {
   "display_name": "Python 3",
   "language": "python",
   "name": "python3"
  },
  "language_info": {
   "codemirror_mode": {
    "name": "ipython",
    "version": 3
   },
   "file_extension": ".py",
   "mimetype": "text/x-python",
   "name": "python",
   "nbconvert_exporter": "python",
   "pygments_lexer": "ipython3",
   "version": "3.7.3"
  }
 },
 "nbformat": 4,
 "nbformat_minor": 2
}
